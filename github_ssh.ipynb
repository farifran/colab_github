{
  "nbformat": 4,
  "nbformat_minor": 0,
  "metadata": {
    "colab": {
      "provenance": [],
      "mount_file_id": "19kq0pDqegfGFRX3Kt64Hgqm1G5UE0mHK",
      "authorship_tag": "ABX9TyM8ezbODV/jcyNYhXNG8n40",
      "include_colab_link": true
    },
    "kernelspec": {
      "name": "python3",
      "display_name": "Python 3"
    },
    "language_info": {
      "name": "python"
    }
  },
  "cells": [
    {
      "cell_type": "markdown",
      "metadata": {
        "id": "view-in-github",
        "colab_type": "text"
      },
      "source": [
        "<a href=\"https://colab.research.google.com/github/farifran/colab_github/blob/main/github_ssh.ipynb\" target=\"_parent\"><img src=\"https://colab.research.google.com/assets/colab-badge.svg\" alt=\"Open In Colab\"/></a>"
      ]
    },
    {
      "cell_type": "markdown",
      "source": [
        "###Primeiramente, você precisa estar conectado ao Google Drive para ter acesso aos arquivos na nuvem."
      ],
      "metadata": {
        "id": "Tyxwu1Z537mz"
      }
    },
    {
      "cell_type": "code",
      "execution_count": 0,
      "metadata": {
        "id": "pbb0ewhAhziF"
      },
      "outputs": [],
      "source": [
        "# Generate an SSH key using the Ed25519 algorithm with your email as a comment\n",
        "!ssh-keygen -t ed25519 -C \"your@email.com\""
      ]
    },
    {
      "cell_type": "code",
      "source": [
        "# Display the public key so you can add it to your GitHub account.\n",
        "!cat /root/.ssh/id_ed25519.pub"
      ],
      "metadata": {
        "id": "eCpHKzAaMBgY"
      },
      "execution_count": 1,
      "outputs": []
    },
    {
      "cell_type": "code",
      "source": [
        "# Create directories to store SSH keys and GitHub-related files.\n",
        "!mkdir /content/drive/MyDrive/ssh && mkdir /content/drive/MyDrive/github/"
      ],
      "metadata": {
        "id": "gcA92pLnMPHX"
      },
      "execution_count": 2,
      "outputs": []
    },
    {
      "cell_type": "code",
      "source": [
        "# Add GitHub's RSA key to your known_hosts file.\n",
        "!ssh-keyscan -t rsa github.com >> ~/.ssh/known_hosts"
      ],
      "metadata": {
        "colab": {
          "base_uri": "https://localhost:8080/"
        },
        "id": "0h9tEh1piwx7",
        "outputId": "085289ce-694d-467e-f5a4-1b807c6f36fa"
      },
      "execution_count": 3,
      "outputs": [
        {
          "output_type": "stream",
          "name": "stdout",
          "text": [
            "# github.com:22 SSH-2.0-babeld-70f1bac9\n"
          ]
        }
      ]
    },
    {
      "cell_type": "code",
      "source": [
        "# Test your SSH connection to GitHub.\n",
        "!ssh -T git@github.com"
      ],
      "metadata": {
        "colab": {
          "base_uri": "https://localhost:8080/"
        },
        "id": "8ZOsT8tekEJ3",
        "outputId": "138551d0-6cda-401e-9e25-8afdb09edd3d"
      },
      "execution_count": 4,
      "outputs": [
        {
          "output_type": "stream",
          "name": "stdout",
          "text": [
            "Hi username! You've successfully authenticated, but GitHub does not provide shell access.\n"
          ]
        }
      ]
    },
    {
      "cell_type": "code",
      "source": [
        "# Configure global Git settings, including your username, email, token, default branch, and credential caching.\n",
        "!git config --global user.name 'username'\n",
        "!git config --global user.email 'your@email.com'\n",
        "!git config --global github.token mytoken\n",
        "!git config --global init.defaultBranch main\n",
        "!git config --global credential.helper cache"
      ],
      "metadata": {
        "id": "XpQ7iQDPkxuH"
      },
      "execution_count": 5,
      "outputs": []
    },
    {
      "cell_type": "code",
      "source": [
        "# Copy your SSH keys and Git configuration to your Google Drive for future use.\n",
        "!cp /root/.ssh/* /content/drive/MyDrive/ssh && cp /root/.gitconfig /content/drive/MyDrive/github/"
      ],
      "metadata": {
        "id": "7y0smx_xmLK2"
      },
      "execution_count": 6,
      "outputs": []
    },
    {
      "cell_type": "code",
      "source": [
        "# Add a command to restore your SSH keys and Git config easily.\n",
        "!echo 'mkdir /root/.ssh && cp /content/drive/MyDrive/ssh/* /root/.ssh && cp /content/drive/MyDrive/github/.gitconfig /root/.gitconfig' >> /content/drive/MyDrive/github/exe.txt"
      ],
      "metadata": {
        "id": "5tXl0Ub-OzQH"
      },
      "execution_count": 7,
      "outputs": []
    },
    {
      "cell_type": "markdown",
      "source": [
        "###Em seguida, para todos os novos notebooks, você só precisa fazer o seguinte:"
      ],
      "metadata": {
        "id": "7dWkqjBm2XAe"
      }
    },
    {
      "cell_type": "code",
      "source": [
        "# Display the command in exe.txt\n",
        "!cat /content/drive/MyDrive/github/exe.txt"
      ],
      "metadata": {
        "colab": {
          "base_uri": "https://localhost:8080/"
        },
        "id": "nA2Lp1MY2loA",
        "outputId": "de841036-e8b9-496c-b96e-478b40887bf2"
      },
      "execution_count": 0,
      "outputs": [
        {
          "output_type": "stream",
          "name": "stdout",
          "text": [
            "# Remova the ssh folder and its contents if already present\n",
            "!mkdir /root/.ssh\n",
            "# Copy from MyDrive to /root/.ssh\n",
            "!cp /content/drive/MyDrive/ssh/* /root/.ssh\n",
            "# Copy from MyDrive to /root/.gitconfig\n",
            "!cp /content/drive/MyDrive/github/.gitconfig /root/.gitconfig"
          ]
        }
      ]
    },
    {
      "cell_type": "code",
      "source": [
        "# This is the exe.txt copy and paste from comand cat\n",
        "\n",
        "# Remova the ssh folder and its contents if already present\n",
        "!mkdir /root/.ssh\n",
        "# Copy from MyDrive to /root/.ssh\n",
        "!cp /content/drive/MyDrive/ssh/* /root/.ssh\n",
        "# Copy from MyDrive to /root/.gitconfig\n",
        "!cp /content/drive/MyDrive/github/.gitconfig /root/.gitconfig"
      ],
      "metadata": {
        "id": "rPOFSRdK3QKv"
      },
      "execution_count": 1,
      "outputs": []
    },
    {
      "cell_type": "code",
      "source": [],
      "metadata": {
        "id": "3-2VbPky9vXE"
      },
      "execution_count": nill,
      "outputs": []
    }
  ]
}
