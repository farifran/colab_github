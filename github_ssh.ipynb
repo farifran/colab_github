{
  "nbformat": 4,
  "nbformat_minor": 0,
  "metadata": {
    "colab": {
      "provenance": [],
      "mount_file_id": "19kq0pDqegfGFRX3Kt64Hgqm1G5UE0mHK",
      "authorship_tag": "ABX9TyMpz8HoNI6vk0geAzxp8dWb",
      "include_colab_link": true
    },
    "kernelspec": {
      "name": "python3",
      "display_name": "Python 3"
    },
    "language_info": {
      "name": "python"
    }
  },
  "cells": [
    {
      "cell_type": "markdown",
      "metadata": {
        "id": "view-in-github",
        "colab_type": "text"
      },
      "source": [
        "<a href=\"https://colab.research.google.com/github/farifran/colab_github/blob/main/github_ssh.ipynb\" target=\"_parent\"><img src=\"https://colab.research.google.com/assets/colab-badge.svg\" alt=\"Open In Colab\"/></a>"
      ]
    },
    {
      "cell_type": "markdown",
      "source": [
        "###**Primeiramente, você precisa estar conectado ao Google Drive para ter acesso aos arquivos na nuvem.**"
      ],
      "metadata": {
        "id": "Tyxwu1Z537mz"
      }
    },
    {
      "cell_type": "code",
      "execution_count": 0,
      "metadata": {
        "id": "pbb0ewhAhziF"
      },
      "outputs": [],
      "source": [
        "# Generate an SSH key using the Ed25519 algorithm with your email as a comment\n",
        "!ssh-keygen -t ed25519 -C \"your@email.com\""
      ]
    },
    {
      "cell_type": "markdown",
      "source": [
        "Antes de continuar precisa entrar na celula anterior e presionar (3) x a tecla 'Enter' para cada solicitação, pois deixando em branco o comando cumpre perfeitamente sua função."
      ],
      "metadata": {
        "id": "wHhOo5Or8Gac"
      }
    },
    {
      "cell_type": "code",
      "source": [
        "# Display the public key so you can add it to your GitHub account.\n",
        "!cat /root/.ssh/id_ed25519.pub"
      ],
      "metadata": {
        "id": "eCpHKzAaMBgY"
      },
      "execution_count": 1,
      "outputs": []
    },
    {
      "cell_type": "code",
      "source": [
        "# Create directories to store SSH keys and GitHub-related files.\n",
        "!mkdir /content/drive/MyDrive/ssh && mkdir /content/drive/MyDrive/github/"
      ],
      "metadata": {
        "id": "gcA92pLnMPHX"
      },
      "execution_count": 2,
      "outputs": []
    },
    {
      "cell_type": "code",
      "source": [
        "# Add GitHub's Ed25519 algorithm to your known_hosts file.\n",
        "!ssh-keyscan -t ed25519 github.com >> ~/.ssh/known_hosts"
      ],
      "metadata": {
        "id": "0h9tEh1piwx7"
      },
      "execution_count": 3,
      "outputs": []
    },
    {
      "cell_type": "markdown",
      "source": [
        "####Usando a chave que foi criada aqui, antes de prosseguir, você deve acessar https://github.com/settings/keys e adicioná-la."
      ],
      "metadata": {
        "id": "sApXZuMJgEc9"
      }
    },
    {
      "cell_type": "code",
      "source": [
        "# Test your SSH connection to GitHub.\n",
        "!ssh -T git@github.com"
      ],
      "metadata": {
        "id": "8ZOsT8tekEJ3"
      },
      "execution_count": 4,
      "outputs": []
    },
    {
      "cell_type": "code",
      "source": [
        "# Configure global Git settings, including your username, email, token, default branch, and credential caching.\n",
        "!git config --global user.name 'username'\n",
        "!git config --global user.email 'your@email.com'\n",
        "!git config --global github.token mytoken\n",
        "!git config --global init.defaultBranch main\n",
        "!git config --global credential.helper cache"
      ],
      "metadata": {
        "id": "XpQ7iQDPkxuH"
      },
      "execution_count": 5,
      "outputs": []
    },
    {
      "cell_type": "code",
      "source": [
        "# Copy your SSH keys and Git configuration to your Google Drive for future use.\n",
        "!cp /root/.ssh/* /content/drive/MyDrive/ssh && cp /root/.gitconfig /content/drive/MyDrive/github/"
      ],
      "metadata": {
        "id": "7y0smx_xmLK2"
      },
      "execution_count": 6,
      "outputs": []
    },
    {
      "cell_type": "code",
      "source": [
        "# Add a command to restore your SSH keys and Git config easily.\n",
        "!echo 'mkdir /root/.ssh && cp /content/drive/MyDrive/ssh/* /root/.ssh && cp /content/drive/MyDrive/github/.gitconfig /root/.gitconfig' >> /content/drive/MyDrive/ini_colab.txt"
      ],
      "metadata": {
        "id": "5tXl0Ub-OzQH"
      },
      "execution_count": 7,
      "outputs": []
    },
    {
      "cell_type": "markdown",
      "source": [
        "###**Em seguida, para todos os novos notebooks, você só precisa fazer o seguinte:**"
      ],
      "metadata": {
        "id": "7dWkqjBm2XAe"
      }
    },
    {
      "cell_type": "code",
      "source": [
        "# Display the command in exe.txt\n",
        "!cat /content/drive/MyDrive/ini_colab.txt"
      ],
      "metadata": {
        "id": "nA2Lp1MY2loA"
      },
      "execution_count": 0,
      "outputs": []
    },
    {
      "cell_type": "code",
      "source": [
        "# This is the ini_colab.txt copy and paste from comand cat\n",
        "\n",
        "# Remova the ssh folder and its contents if already present\n",
        "!mkdir /root/.ssh\n",
        "# Copy from MyDrive to /root/.ssh\n",
        "!cp /content/drive/MyDrive/ssh/* /root/.ssh\n",
        "# Copy from MyDrive to /root/.gitconfig\n",
        "!cp /content/drive/MyDrive/github/.gitconfig /root/.gitconfig"
      ],
      "metadata": {
        "id": "rPOFSRdK3QKv"
      },
      "execution_count": 1,
      "outputs": []
    },
    {
      "cell_type": "markdown",
      "source": [
        "Acredito que o Colab vai automatizar tudo isto futuramente,  pois é uma funcionalidade relativamente fácil de adicionar. Por enquanto espero ter ajudado vocês, sintam-se livre de usar e melhorar."
      ],
      "metadata": {
        "id": "SSlwgSBREfxO"
      }
    }
  ]
}
